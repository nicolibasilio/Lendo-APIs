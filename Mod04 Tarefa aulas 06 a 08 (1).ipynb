{
 "cells": [
  {
   "cell_type": "markdown",
   "metadata": {},
   "source": [
    "# Tarefa 03\n",
    "\n",
    "- Leia os enunciados com atenção\n",
    "- Saiba que pode haver mais de uma resposta correta\n",
    "- Insira novas células de código sempre que achar necessário\n",
    "- Em caso de dúvidas, procure os Tutores\n",
    "- Divirta-se :)"
   ]
  },
  {
   "cell_type": "code",
   "execution_count": 1,
   "metadata": {},
   "outputs": [],
   "source": [
    "import pandas as pd\n",
    "import requests"
   ]
  },
  {
   "cell_type": "markdown",
   "metadata": {},
   "source": [
    "####  1) Lendo de APIs\n",
    "Vimos em aula como carregar dados públicos do governo através de um API (*Application Programming Interface*). No exemplo de aula, baixamos os dados de pedidos de verificação de limites (PVL) realizados por estados, e selecionamos apenas aqueles referentes ao estado de São Paulo.\n",
    "\n",
    "1. Repita os mesmos passos feitos em aula, mas selecione os PVLs realizados por municípios no estado do Rio de Janeiro.\n",
    "2. Quais são os três *status* das solicitações mais frequentes na base? Quais são suas frequências?\n",
    "3. Construa uma nova variável que contenha o ano do **status**. Observe que ```data_status``` vem como tipo *object* no **DataFrame**. Dica: você pode usar o método ```.str``` para transformar o tipo da variável em string, em seguida um método como [**slice()**](https://pandas.pydata.org/docs/reference/api/pandas.Series.str.slice.html) ou [**split()**](https://pandas.pydata.org/pandas-docs/stable/reference/api/pandas.Series.str.split.html).\n",
    "4. Indique a frequência de cada ano do campo construído no item (3)."
   ]
  },
  {
   "cell_type": "code",
   "execution_count": 3,
   "metadata": {},
   "outputs": [],
   "source": [
    "# 1) Seu código aqui\n",
    "\n",
    "url = \"http://apidatalake.tesouro.gov.br/ords/sadipem/tt/pvl?uf=RJ&tipo_interessado=Estado\""
   ]
  },
  {
   "cell_type": "code",
   "execution_count": 5,
   "metadata": {},
   "outputs": [],
   "source": [
    "r = requests.get(url)"
   ]
  },
  {
   "cell_type": "code",
   "execution_count": 6,
   "metadata": {},
   "outputs": [
    {
     "data": {
      "text/plain": [
       "200"
      ]
     },
     "execution_count": 6,
     "metadata": {},
     "output_type": "execute_result"
    }
   ],
   "source": [
    "r.status_code"
   ]
  },
  {
   "cell_type": "code",
   "execution_count": 9,
   "metadata": {},
   "outputs": [],
   "source": [
    "data_json = r.json()"
   ]
  },
  {
   "cell_type": "code",
   "execution_count": 11,
   "metadata": {},
   "outputs": [],
   "source": [
    "#Apenas para observar se os dados estão corretos \n",
    "#data_json[\"items\"]"
   ]
  },
  {
   "cell_type": "code",
   "execution_count": 104,
   "metadata": {},
   "outputs": [],
   "source": [
    "# 2) Seu código aqui\n",
    "lista = pd.DataFrame(data_json[\"items\"])"
   ]
  },
  {
   "cell_type": "code",
   "execution_count": 25,
   "metadata": {},
   "outputs": [
    {
     "data": {
      "text/plain": [
       "id_pleito                  int64\n",
       "tipo_interessado          object\n",
       "interessado               object\n",
       "cod_ibge                   int64\n",
       "uf                        object\n",
       "num_pvl                   object\n",
       "status                    object\n",
       "num_processo              object\n",
       "data_protocolo            object\n",
       "tipo_operacao             object\n",
       "finalidade                object\n",
       "tipo_credor               object\n",
       "credor                    object\n",
       "moeda                     object\n",
       "valor                    float64\n",
       "pvl_assoc_divida           int64\n",
       "pvl_contradado_credor      int64\n",
       "data_status               object\n",
       "dtype: object"
      ]
     },
     "execution_count": 25,
     "metadata": {},
     "output_type": "execute_result"
    }
   ],
   "source": [
    "lista.dtypes"
   ]
  },
  {
   "cell_type": "code",
   "execution_count": 19,
   "metadata": {},
   "outputs": [
    {
     "data": {
      "text/plain": [
       "status\n",
       "Encaminhado à PGFN com manifestação técnica favorável    34\n",
       "Deferido                                                 14\n",
       "Arquivado a pedido                                        3\n",
       "Name: count, dtype: int64"
      ]
     },
     "execution_count": 19,
     "metadata": {},
     "output_type": "execute_result"
    }
   ],
   "source": [
    "lista.status.explode().value_counts().head(3)"
   ]
  },
  {
   "cell_type": "code",
   "execution_count": 21,
   "metadata": {},
   "outputs": [
    {
     "data": {
      "text/plain": [
       "status\n",
       "Encaminhado à PGFN com manifestação técnica favorável    34\n",
       "Deferido                                                 14\n",
       "Arquivado a pedido                                        3\n",
       "Arquivado por decurso de prazo                            1\n",
       "Name: count, dtype: int64"
      ]
     },
     "execution_count": 21,
     "metadata": {},
     "output_type": "execute_result"
    }
   ],
   "source": [
    "lista.status.explode().value_counts()"
   ]
  },
  {
   "cell_type": "code",
   "execution_count": null,
   "metadata": {},
   "outputs": [],
   "source": [
    "# 3) Seu código aqui\n",
    "#Construa uma nova variável que contenha o ano do status. Observe que data_status vem como tipo object no DataFrame. \n",
    "#Dica: você pode usar o método .str para transformar o tipo da variável em string, em seguida um método como slice() ou split().\n"
   ]
  },
  {
   "cell_type": "code",
   "execution_count": 83,
   "metadata": {},
   "outputs": [
    {
     "data": {
      "text/plain": [
       "0    2009\n",
       "1    2013\n",
       "2    2013\n",
       "Name: 2, dtype: object"
      ]
     },
     "execution_count": 83,
     "metadata": {},
     "output_type": "execute_result"
    }
   ],
   "source": [
    "ano = lista[\"data_status\"].str.split(\"/\", expand= True)[2]\n",
    "ano.head(3)"
   ]
  },
  {
   "cell_type": "code",
   "execution_count": 85,
   "metadata": {},
   "outputs": [
    {
     "data": {
      "text/plain": [
       "2\n",
       "2012    11\n",
       "2009     9\n",
       "2013     7\n",
       "2011     6\n",
       "2002     4\n",
       "2016     4\n",
       "2014     4\n",
       "2010     3\n",
       "2008     2\n",
       "2006     2\n",
       "Name: count, dtype: int64"
      ]
     },
     "execution_count": 85,
     "metadata": {},
     "output_type": "execute_result"
    }
   ],
   "source": [
    "# 4) \n",
    "#Indique a frequência de cada ano do campo construído no item (3).\n",
    "\n",
    "ano.value_counts()"
   ]
  },
  {
   "cell_type": "markdown",
   "metadata": {},
   "source": [
    "####  2) Melhorando a interação com o API\n",
    "Observe dois URLs de consultas diferentes, por exemplo o URL utilizado em aula, e o URL feito no exercício anterior. Compare-os e observe as diferenças.\n",
    "\n",
    "1. Faça uma função em Python que recebe como argumento o UF da consulta e o tipo de interessado (```'Estado'```ou ```Município```), e que devolve os dados da consulta no formato *DataFrame*.\n",
    "2. Quantas solicitações para o Estado podem ser consultadas para Minas Gerais com *status* em 'Arquivado por decurso de prazo' estão registradas?\n",
    "3. Qual é o município da Bahia com mais solicitações deferidas?\n",
    "4. Salve um arquivo .csv com os dados de solicitações da Bahia, com interessado = 'Estado'"
   ]
  },
  {
   "cell_type": "code",
   "execution_count": 101,
   "metadata": {},
   "outputs": [],
   "source": [
    "#1) Seu código aqui\n",
    "#Faça uma função em Python que recebe como argumento o UF da consulta e o tipo de interessado ('Estado'ou Município), e que devolve os dados da consulta no formato DataFrame."
   ]
  },
  {
   "cell_type": "code",
   "execution_count": 112,
   "metadata": {},
   "outputs": [],
   "source": [
    "def comparar_uf(uf: str, tipo_interessado: str):\n",
    "    r = requests.get(\"https://apidatalake.tesouro.gov.br/ords/sadipem/tt/pvl\")\n",
    "    data = r.json()\n",
    "    df = pd.DataFrame(data[\"items\"])\n",
    "\n",
    "    #Filtrando a UF e retorno\n",
    "    filtro = (df[\"uf\"] == uf) & (df[\"tipo_interessado\"] == tipo_interessado)\n",
    "    df_filtrada = df[filtro]\n",
    "\n",
    "    return df_filtrada"
   ]
  },
  {
   "cell_type": "code",
   "execution_count": 97,
   "metadata": {},
   "outputs": [],
   "source": [
    "# 2) Seu código aqui\n",
    "#Quantas solicitações para o Estado podem ser consultadas para Minas Gerais com status em 'Arquivado por decurso de prazo' estão registradas?bb"
   ]
  },
  {
   "cell_type": "code",
   "execution_count": 120,
   "metadata": {},
   "outputs": [
    {
     "data": {
      "text/html": [
       "<div>\n",
       "<style scoped>\n",
       "    .dataframe tbody tr th:only-of-type {\n",
       "        vertical-align: middle;\n",
       "    }\n",
       "\n",
       "    .dataframe tbody tr th {\n",
       "        vertical-align: top;\n",
       "    }\n",
       "\n",
       "    .dataframe thead th {\n",
       "        text-align: right;\n",
       "    }\n",
       "</style>\n",
       "<table border=\"1\" class=\"dataframe\">\n",
       "  <thead>\n",
       "    <tr style=\"text-align: right;\">\n",
       "      <th></th>\n",
       "      <th>id_pleito</th>\n",
       "      <th>tipo_interessado</th>\n",
       "      <th>interessado</th>\n",
       "      <th>cod_ibge</th>\n",
       "      <th>uf</th>\n",
       "      <th>num_pvl</th>\n",
       "      <th>status</th>\n",
       "      <th>num_processo</th>\n",
       "      <th>data_protocolo</th>\n",
       "      <th>tipo_operacao</th>\n",
       "      <th>finalidade</th>\n",
       "      <th>tipo_credor</th>\n",
       "      <th>credor</th>\n",
       "      <th>moeda</th>\n",
       "      <th>valor</th>\n",
       "      <th>pvl_assoc_divida</th>\n",
       "      <th>pvl_contradado_credor</th>\n",
       "      <th>data_status</th>\n",
       "    </tr>\n",
       "  </thead>\n",
       "  <tbody>\n",
       "    <tr>\n",
       "      <th>158</th>\n",
       "      <td>18661</td>\n",
       "      <td>Estado</td>\n",
       "      <td>São Paulo</td>\n",
       "      <td>35</td>\n",
       "      <td>SP</td>\n",
       "      <td>00000.000000/1003-61</td>\n",
       "      <td>Deferido</td>\n",
       "      <td>17944.000345/2015-09</td>\n",
       "      <td>2017-04-24T11:46:59Z</td>\n",
       "      <td>Operação contratual interna</td>\n",
       "      <td>Infraestrutura</td>\n",
       "      <td>Instituição Financeira Nacional</td>\n",
       "      <td>Banco Nacional de Desenvolvimento Econômico e ...</td>\n",
       "      <td>Real</td>\n",
       "      <td>4.759899e+08</td>\n",
       "      <td>1</td>\n",
       "      <td>0</td>\n",
       "      <td>10/05/2017</td>\n",
       "    </tr>\n",
       "    <tr>\n",
       "      <th>211</th>\n",
       "      <td>7947</td>\n",
       "      <td>Estado</td>\n",
       "      <td>São Paulo</td>\n",
       "      <td>35</td>\n",
       "      <td>SP</td>\n",
       "      <td>None</td>\n",
       "      <td>Encaminhado à PGFN com manifestação técnica fa...</td>\n",
       "      <td>17944.000682/2014-15</td>\n",
       "      <td>2014-06-11T00:00:00Z</td>\n",
       "      <td>Operação contratual externa (com garantia da U...</td>\n",
       "      <td>Infraestrutura</td>\n",
       "      <td>Instituição Financeira Internacional</td>\n",
       "      <td>Banco Interamericano de Desenvolvimento</td>\n",
       "      <td>Dólar dos EUA</td>\n",
       "      <td>4.801350e+08</td>\n",
       "      <td>1</td>\n",
       "      <td>0</td>\n",
       "      <td>15/08/2014</td>\n",
       "    </tr>\n",
       "    <tr>\n",
       "      <th>758</th>\n",
       "      <td>5248</td>\n",
       "      <td>Estado</td>\n",
       "      <td>São Paulo</td>\n",
       "      <td>35</td>\n",
       "      <td>SP</td>\n",
       "      <td>None</td>\n",
       "      <td>Encaminhado à PGFN com manifestação técnica fa...</td>\n",
       "      <td>17944.000068/2013-64</td>\n",
       "      <td>2014-07-01T00:00:00Z</td>\n",
       "      <td>Operação contratual externa (com garantia da U...</td>\n",
       "      <td>Infraestrutura</td>\n",
       "      <td>Instituição Financeira Internacional</td>\n",
       "      <td>Corporação Andina de Fomento</td>\n",
       "      <td>Dólar dos EUA</td>\n",
       "      <td>2.000000e+08</td>\n",
       "      <td>1</td>\n",
       "      <td>0</td>\n",
       "      <td>07/08/2014</td>\n",
       "    </tr>\n",
       "  </tbody>\n",
       "</table>\n",
       "</div>"
      ],
      "text/plain": [
       "     id_pleito tipo_interessado interessado  cod_ibge  uf  \\\n",
       "158      18661           Estado   São Paulo        35  SP   \n",
       "211       7947           Estado   São Paulo        35  SP   \n",
       "758       5248           Estado   São Paulo        35  SP   \n",
       "\n",
       "                  num_pvl                                             status  \\\n",
       "158  00000.000000/1003-61                                           Deferido   \n",
       "211                  None  Encaminhado à PGFN com manifestação técnica fa...   \n",
       "758                  None  Encaminhado à PGFN com manifestação técnica fa...   \n",
       "\n",
       "             num_processo        data_protocolo  \\\n",
       "158  17944.000345/2015-09  2017-04-24T11:46:59Z   \n",
       "211  17944.000682/2014-15  2014-06-11T00:00:00Z   \n",
       "758  17944.000068/2013-64  2014-07-01T00:00:00Z   \n",
       "\n",
       "                                         tipo_operacao      finalidade  \\\n",
       "158                        Operação contratual interna  Infraestrutura   \n",
       "211  Operação contratual externa (com garantia da U...  Infraestrutura   \n",
       "758  Operação contratual externa (com garantia da U...  Infraestrutura   \n",
       "\n",
       "                              tipo_credor  \\\n",
       "158       Instituição Financeira Nacional   \n",
       "211  Instituição Financeira Internacional   \n",
       "758  Instituição Financeira Internacional   \n",
       "\n",
       "                                                credor          moeda  \\\n",
       "158  Banco Nacional de Desenvolvimento Econômico e ...           Real   \n",
       "211            Banco Interamericano de Desenvolvimento  Dólar dos EUA   \n",
       "758                       Corporação Andina de Fomento  Dólar dos EUA   \n",
       "\n",
       "            valor  pvl_assoc_divida  pvl_contradado_credor data_status  \n",
       "158  4.759899e+08                 1                      0  10/05/2017  \n",
       "211  4.801350e+08                 1                      0  15/08/2014  \n",
       "758  2.000000e+08                 1                      0  07/08/2014  "
      ]
     },
     "execution_count": 120,
     "metadata": {},
     "output_type": "execute_result"
    }
   ],
   "source": [
    "#teste\n",
    "\n",
    "#uf = \"SP\"\n",
    "#tipo_interessado = \"Estado\"\n",
    "#df_filtrado = comparar_uf(uf, tipo_interessado)\n",
    "#df_filtrado.head(3)"
   ]
  },
  {
   "cell_type": "code",
   "execution_count": 116,
   "metadata": {},
   "outputs": [
    {
     "data": {
      "text/html": [
       "<div>\n",
       "<style scoped>\n",
       "    .dataframe tbody tr th:only-of-type {\n",
       "        vertical-align: middle;\n",
       "    }\n",
       "\n",
       "    .dataframe tbody tr th {\n",
       "        vertical-align: top;\n",
       "    }\n",
       "\n",
       "    .dataframe thead th {\n",
       "        text-align: right;\n",
       "    }\n",
       "</style>\n",
       "<table border=\"1\" class=\"dataframe\">\n",
       "  <thead>\n",
       "    <tr style=\"text-align: right;\">\n",
       "      <th></th>\n",
       "      <th>id_pleito</th>\n",
       "      <th>tipo_interessado</th>\n",
       "      <th>interessado</th>\n",
       "      <th>cod_ibge</th>\n",
       "      <th>uf</th>\n",
       "      <th>num_pvl</th>\n",
       "      <th>status</th>\n",
       "      <th>num_processo</th>\n",
       "      <th>data_protocolo</th>\n",
       "      <th>tipo_operacao</th>\n",
       "      <th>finalidade</th>\n",
       "      <th>tipo_credor</th>\n",
       "      <th>credor</th>\n",
       "      <th>moeda</th>\n",
       "      <th>valor</th>\n",
       "      <th>pvl_assoc_divida</th>\n",
       "      <th>pvl_contradado_credor</th>\n",
       "      <th>data_status</th>\n",
       "    </tr>\n",
       "  </thead>\n",
       "  <tbody>\n",
       "  </tbody>\n",
       "</table>\n",
       "</div>"
      ],
      "text/plain": [
       "Empty DataFrame\n",
       "Columns: [id_pleito, tipo_interessado, interessado, cod_ibge, uf, num_pvl, status, num_processo, data_protocolo, tipo_operacao, finalidade, tipo_credor, credor, moeda, valor, pvl_assoc_divida, pvl_contradado_credor, data_status]\n",
       "Index: []"
      ]
     },
     "execution_count": 116,
     "metadata": {},
     "output_type": "execute_result"
    }
   ],
   "source": [
    "uf = \"MG\"\n",
    "tipo_interessado = \"Estado\"\n",
    "\n",
    "df_filtrado = comparar_uf(uf, tipo_interessado)\n",
    "\n",
    "df_arquivada = df_filtrado[df_filtrado[\"status\"] == \"Arquivado por decurso de prazo\"]\n",
    "df_arquivada"
   ]
  },
  {
   "cell_type": "code",
   "execution_count": 93,
   "metadata": {},
   "outputs": [],
   "source": [
    "# 3) Seu código aqui \n",
    "#Qual é o município da Bahia com mais solicitações deferidas?"
   ]
  },
  {
   "cell_type": "code",
   "execution_count": 182,
   "metadata": {},
   "outputs": [
    {
     "data": {
      "text/html": [
       "<div>\n",
       "<style scoped>\n",
       "    .dataframe tbody tr th:only-of-type {\n",
       "        vertical-align: middle;\n",
       "    }\n",
       "\n",
       "    .dataframe tbody tr th {\n",
       "        vertical-align: top;\n",
       "    }\n",
       "\n",
       "    .dataframe thead th {\n",
       "        text-align: right;\n",
       "    }\n",
       "</style>\n",
       "<table border=\"1\" class=\"dataframe\">\n",
       "  <thead>\n",
       "    <tr style=\"text-align: right;\">\n",
       "      <th></th>\n",
       "      <th>id_pleito</th>\n",
       "      <th>tipo_interessado</th>\n",
       "      <th>interessado</th>\n",
       "      <th>cod_ibge</th>\n",
       "      <th>uf</th>\n",
       "      <th>num_pvl</th>\n",
       "      <th>status</th>\n",
       "      <th>num_processo</th>\n",
       "      <th>data_protocolo</th>\n",
       "      <th>tipo_operacao</th>\n",
       "      <th>finalidade</th>\n",
       "      <th>tipo_credor</th>\n",
       "      <th>credor</th>\n",
       "      <th>moeda</th>\n",
       "      <th>valor</th>\n",
       "      <th>pvl_assoc_divida</th>\n",
       "      <th>pvl_contradado_credor</th>\n",
       "      <th>data_status</th>\n",
       "    </tr>\n",
       "  </thead>\n",
       "  <tbody>\n",
       "    <tr>\n",
       "      <th>35</th>\n",
       "      <td>27353</td>\n",
       "      <td>Município</td>\n",
       "      <td>Amargosa</td>\n",
       "      <td>2901007</td>\n",
       "      <td>BA</td>\n",
       "      <td>PVL02.002662/2017-51</td>\n",
       "      <td>Arquivado por decurso de prazo</td>\n",
       "      <td>17944.100262/2018-53</td>\n",
       "      <td>2017-12-29T11:25:41Z</td>\n",
       "      <td>Operação contratual interna</td>\n",
       "      <td>Multissetorial</td>\n",
       "      <td>Instituição Financeira Nacional</td>\n",
       "      <td>Caixa Econômica Federal</td>\n",
       "      <td>Real</td>\n",
       "      <td>4350000.0</td>\n",
       "      <td>0</td>\n",
       "      <td>0</td>\n",
       "      <td>14/08/2018</td>\n",
       "    </tr>\n",
       "    <tr>\n",
       "      <th>60</th>\n",
       "      <td>31372</td>\n",
       "      <td>Município</td>\n",
       "      <td>Santa Brígida</td>\n",
       "      <td>2927606</td>\n",
       "      <td>BA</td>\n",
       "      <td>PVL02.000521/2019-65</td>\n",
       "      <td>Em retificação pelo interessado</td>\n",
       "      <td>17944.101204/2019-28</td>\n",
       "      <td>2019-04-05T11:09:11Z</td>\n",
       "      <td>Operação contratual interna</td>\n",
       "      <td>Regularização de Dívida - Energia Elétrica</td>\n",
       "      <td>Empresa Não Estatal</td>\n",
       "      <td>Companhia de Eletricidade do Estado da Bahia</td>\n",
       "      <td>Real</td>\n",
       "      <td>48721.3</td>\n",
       "      <td>0</td>\n",
       "      <td>0</td>\n",
       "      <td>11/04/2019</td>\n",
       "    </tr>\n",
       "    <tr>\n",
       "      <th>93</th>\n",
       "      <td>6400</td>\n",
       "      <td>Município</td>\n",
       "      <td>Barra do Mendes</td>\n",
       "      <td>2903003</td>\n",
       "      <td>BA</td>\n",
       "      <td>None</td>\n",
       "      <td>Arquivado por decurso de prazo</td>\n",
       "      <td>17944.000337/2009-14</td>\n",
       "      <td>2009-03-30T00:00:00Z</td>\n",
       "      <td>Operação contratual interna</td>\n",
       "      <td>Provias</td>\n",
       "      <td>Instituição Financeira Nacional</td>\n",
       "      <td>Banco do Brasil S/A</td>\n",
       "      <td>Real</td>\n",
       "      <td>400000.0</td>\n",
       "      <td>0</td>\n",
       "      <td>0</td>\n",
       "      <td>07/04/2009</td>\n",
       "    </tr>\n",
       "  </tbody>\n",
       "</table>\n",
       "</div>"
      ],
      "text/plain": [
       "    id_pleito tipo_interessado      interessado  cod_ibge  uf  \\\n",
       "35      27353        Município         Amargosa   2901007  BA   \n",
       "60      31372        Município    Santa Brígida   2927606  BA   \n",
       "93       6400        Município  Barra do Mendes   2903003  BA   \n",
       "\n",
       "                 num_pvl                           status  \\\n",
       "35  PVL02.002662/2017-51   Arquivado por decurso de prazo   \n",
       "60  PVL02.000521/2019-65  Em retificação pelo interessado   \n",
       "93                  None   Arquivado por decurso de prazo   \n",
       "\n",
       "            num_processo        data_protocolo                tipo_operacao  \\\n",
       "35  17944.100262/2018-53  2017-12-29T11:25:41Z  Operação contratual interna   \n",
       "60  17944.101204/2019-28  2019-04-05T11:09:11Z  Operação contratual interna   \n",
       "93  17944.000337/2009-14  2009-03-30T00:00:00Z  Operação contratual interna   \n",
       "\n",
       "                                    finalidade  \\\n",
       "35                              Multissetorial   \n",
       "60  Regularização de Dívida - Energia Elétrica   \n",
       "93                                     Provias   \n",
       "\n",
       "                        tipo_credor  \\\n",
       "35  Instituição Financeira Nacional   \n",
       "60              Empresa Não Estatal   \n",
       "93  Instituição Financeira Nacional   \n",
       "\n",
       "                                          credor moeda      valor  \\\n",
       "35                       Caixa Econômica Federal  Real  4350000.0   \n",
       "60  Companhia de Eletricidade do Estado da Bahia  Real    48721.3   \n",
       "93                           Banco do Brasil S/A  Real   400000.0   \n",
       "\n",
       "    pvl_assoc_divida  pvl_contradado_credor data_status  \n",
       "35                 0                      0  14/08/2018  \n",
       "60                 0                      0  11/04/2019  \n",
       "93                 0                      0  07/04/2009  "
      ]
     },
     "execution_count": 182,
     "metadata": {},
     "output_type": "execute_result"
    }
   ],
   "source": [
    "uf = \"BA\"\n",
    "tipo_interessado = \"Município\"\n",
    "df_filtrado = comparar_uf(uf, tipo_interessado)\n",
    "municipio_ba = df_filtrado\n",
    "municipio_ba.head(3)"
   ]
  },
  {
   "cell_type": "code",
   "execution_count": 184,
   "metadata": {},
   "outputs": [
    {
     "data": {
      "text/plain": [
       "interessado\n",
       "Luís Eduardo Magalhães    4\n",
       "Vitória da Conquista      3\n",
       "Formosa do Rio Preto      2\n",
       "Campo Formoso             2\n",
       "Candeias                  2\n",
       "                         ..\n",
       "Amélia Rodrigues          1\n",
       "Irará                     1\n",
       "Serra Preta               1\n",
       "Macarani                  1\n",
       "Coribe                    1\n",
       "Name: count, Length: 69, dtype: int64"
      ]
     },
     "execution_count": 184,
     "metadata": {},
     "output_type": "execute_result"
    }
   ],
   "source": [
    "status = municipio_ba[municipio_ba[\"status\"] == \"Deferido\"]\n",
    "status.interessado.value_counts()"
   ]
  },
  {
   "cell_type": "code",
   "execution_count": 95,
   "metadata": {},
   "outputs": [],
   "source": [
    "# 4) Seu código aqui\n",
    "#Salve um arquivo .csv com os dados de solicitações da Bahia, com interessado = 'Estado'"
   ]
  },
  {
   "cell_type": "code",
   "execution_count": 190,
   "metadata": {},
   "outputs": [],
   "source": [
    "uf = \"BA\"\n",
    "tipo_interessado = \"Estado\"\n",
    "df_filtrado = comparar_uf(uf, tipo_interessado)\n",
    "uf_ba = df_filtrado\n",
    "\n",
    "uf_ba.to_csv(\"Solicitações_Bahia\")"
   ]
  }
 ],
 "metadata": {
  "kernelspec": {
   "display_name": "Python [conda env:base] *",
   "language": "python",
   "name": "conda-base-py"
  },
  "language_info": {
   "codemirror_mode": {
    "name": "ipython",
    "version": 3
   },
   "file_extension": ".py",
   "mimetype": "text/x-python",
   "name": "python",
   "nbconvert_exporter": "python",
   "pygments_lexer": "ipython3",
   "version": "3.12.7"
  }
 },
 "nbformat": 4,
 "nbformat_minor": 4
}
